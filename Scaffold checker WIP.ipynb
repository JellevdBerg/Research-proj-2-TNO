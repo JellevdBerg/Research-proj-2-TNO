{
 "cells": [
  {
   "cell_type": "code",
   "execution_count": 1,
   "metadata": {},
   "outputs": [],
   "source": [
    "from qsprpred.data import QSPRDataset\n",
    "from qsprpred.models import SklearnModel\n",
    "import os\n",
    "import random\n",
    "import numpy as np\n",
    "from scaffviz.clustering.manifold import TSNE\n",
    "from scaffviz.depiction.plot import ModelPerformancePlot\n",
    "\n",
    "# define target of interest\n",
    "symbol = \"EP300\"\n",
    "# set base directory\n",
    "dir = 'ML-models/classification corner/'\n",
    "\n",
    "# Define pathing\n",
    "data_dir = os.path.join(dir, f'data/{symbol}/meta.json')\n",
    "model_dir = os.path.join(dir, f'models/{symbol}/{symbol}_meta.json')"
   ]
  },
  {
   "cell_type": "code",
   "execution_count": 2,
   "metadata": {},
   "outputs": [],
   "source": [
    "model = SklearnModel.fromFile(model_dir)\n",
    "dataset = QSPRDataset.fromFile(data_dir)"
   ]
  },
  {
   "cell_type": "code",
   "execution_count": 3,
   "metadata": {},
   "outputs": [
    {
     "ename": "AttributeError",
     "evalue": "'dict' object has no attribute 'getSubset'",
     "output_type": "error",
     "traceback": [
      "\u001b[0;31m---------------------------------------------------------------------------\u001b[0m",
      "\u001b[0;31mAttributeError\u001b[0m                            Traceback (most recent call last)",
      "Cell \u001b[0;32mIn[3], line 30\u001b[0m\n\u001b[1;32m     21\u001b[0m \u001b[38;5;28;01mfor\u001b[39;00m plot_type \u001b[38;5;129;01min\u001b[39;00m plot_types:  \u001b[38;5;66;03m# make a plot for each type (just an example, not recommended to do all at once)\u001b[39;00m\n\u001b[1;32m     22\u001b[0m     plot \u001b[38;5;241m=\u001b[39m ModelPerformancePlot(\n\u001b[1;32m     23\u001b[0m         TSNE(random_state\u001b[38;5;241m=\u001b[39mseed),                \u001b[38;5;66;03m# use t-SNE for dimensionality reduction, does not recalculate if already done before on a data set\u001b[39;00m\n\u001b[1;32m     24\u001b[0m         models,                \u001b[38;5;66;03m# list of models to show the plot for\u001b[39;00m\n\u001b[0;32m   (...)\u001b[0m\n\u001b[1;32m     28\u001b[0m         async_execution\u001b[38;5;241m=\u001b[39m\u001b[38;5;28;01mTrue\u001b[39;00m,  \u001b[38;5;66;03m# run the plot in a separate thread, set to False if you encounter problems\u001b[39;00m\n\u001b[1;32m     29\u001b[0m     )\n\u001b[0;32m---> 30\u001b[0m     info_ \u001b[38;5;241m=\u001b[39m \u001b[43mplot\u001b[49m\u001b[38;5;241;43m.\u001b[39;49m\u001b[43mmake\u001b[49m\u001b[43m(\u001b[49m\u001b[43m)\u001b[49m\n\u001b[1;32m     31\u001b[0m     info\u001b[38;5;241m.\u001b[39mupdate(info_)\n\u001b[1;32m     32\u001b[0m     starting_port \u001b[38;5;241m+\u001b[39m\u001b[38;5;241m=\u001b[39m \u001b[38;5;241m1\u001b[39m  \u001b[38;5;66;03m# increment the port for the next plot\u001b[39;00m\n",
      "File \u001b[0;32m~/miniconda3/envs/qsprpred/lib/python3.13/site-packages/scaffviz/depiction/plot.py:219\u001b[0m, in \u001b[0;36mModelPerformancePlot.make\u001b[0;34m(self, show, save)\u001b[0m\n\u001b[1;32m    216\u001b[0m df_all \u001b[38;5;241m=\u001b[39m pd\u001b[38;5;241m.\u001b[39mconcat([df_cv, df_ind])\n\u001b[1;32m    218\u001b[0m \u001b[38;5;66;03m# create a molecule table with the required data\u001b[39;00m\n\u001b[0;32m--> 219\u001b[0m manifold_cols \u001b[38;5;241m=\u001b[39m \u001b[43mds\u001b[49m\u001b[38;5;241;43m.\u001b[39;49m\u001b[43mgetSubset\u001b[49m(\u001b[38;5;124mf\u001b[39m\u001b[38;5;124m\"\u001b[39m\u001b[38;5;132;01m{\u001b[39;00m\u001b[38;5;28mself\u001b[39m\u001b[38;5;241m.\u001b[39mmanifold\u001b[38;5;132;01m}\u001b[39;00m\u001b[38;5;124m_\u001b[39m\u001b[38;5;124m\"\u001b[39m)\n\u001b[1;32m    220\u001b[0m \u001b[38;5;28;01mif\u001b[39;00m manifold_cols \u001b[38;5;129;01mis\u001b[39;00m \u001b[38;5;28;01mNone\u001b[39;00m:\n\u001b[1;32m    221\u001b[0m     manifold_cols \u001b[38;5;241m=\u001b[39m []\n",
      "\u001b[0;31mAttributeError\u001b[0m: 'dict' object has no attribute 'getSubset'"
     ]
    }
   ],
   "source": [
    "# Set a random seed for reproducibility\n",
    "seed = 42\n",
    "random.seed(seed)\n",
    "np.random.seed(seed)\n",
    "\n",
    "# Add model and dataset to respective lists\n",
    "models = [model]\n",
    "datasets = [dataset]\n",
    "\n",
    "# Define plot types\n",
    "plot_types = (\n",
    "    \"predictions\", # plot predicted values\n",
    "    \"errors\",      # plot original (true) labels\n",
    ")\n",
    "\n",
    "# Initialize info dictionary and starting port\n",
    "info = dict()\n",
    "starting_port = 6000  # starting port for the first model\n",
    "\n",
    "# Create and serve plots\n",
    "for plot_type in plot_types:  # make a plot for each type (just an example, not recommended to do all at once)\n",
    "    plot = ModelPerformancePlot(\n",
    "        TSNE(random_state=seed),                # use t-SNE for dimensionality reduction, does not recalculate if already done before on a data set\n",
    "        models,                # list of models to show the plot for\n",
    "        datasets,              # list of data sets used to fit the models\n",
    "        [starting_port],       # port on localhost to use for the model performance plot (must be unique)\n",
    "        plot_type=plot_type,   # type of the plot\n",
    "        async_execution=True,  # run the plot in a separate thread, set to False if you encounter problems\n",
    "    )\n",
    "    info_ = plot.make()\n",
    "    info.update(info_)\n",
    "    starting_port += 1  # increment the port for the next plot\n",
    "\n",
    "# Print info about running plots\n",
    "for port in info:\n",
    "    print(f\"The '{info[port]['plot_type']}' plot for model: '{info[port]['model'].name}' is running @ http://localhost:{port}\")"
   ]
  }
 ],
 "metadata": {
  "kernelspec": {
   "display_name": "qsprpred",
   "language": "python",
   "name": "python3"
  },
  "language_info": {
   "codemirror_mode": {
    "name": "ipython",
    "version": 3
   },
   "file_extension": ".py",
   "mimetype": "text/x-python",
   "name": "python",
   "nbconvert_exporter": "python",
   "pygments_lexer": "ipython3",
   "version": "3.13.2"
  }
 },
 "nbformat": 4,
 "nbformat_minor": 2
}
