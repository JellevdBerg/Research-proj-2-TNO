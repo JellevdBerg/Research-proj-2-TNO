{
 "cells": [
  {
   "cell_type": "code",
   "execution_count": 23,
   "id": "884efb6c",
   "metadata": {},
   "outputs": [],
   "source": [
    "from rdkit import Chem\n",
    "import os\n",
    "import pandas as pd\n",
    "\n",
    "folder = \"../Data/other/SDF poses\"\n",
    "data = []\n",
    "\n",
    "for file in os.listdir(folder):\n",
    "    if file.endswith(\".sdf\"):\n",
    "        base_name = file[:-4]  # remove '.sdf'\n",
    "        suppl = Chem.SDMolSupplier(os.path.join(folder, file))\n",
    "        for i, mol in enumerate(suppl):\n",
    "            if mol:\n",
    "                smiles = Chem.MolToSmiles(mol)\n",
    "                data.append({\"name\": base_name, \"smiles\": smiles})\n",
    "\n",
    "df = pd.DataFrame(data)\n",
    "\n",
    "#save to csv\n",
    "df.to_csv(\"../Data/docs/7.compounds_for_validaton.csv\", index=False)"
   ]
  },
  {
   "cell_type": "code",
   "execution_count": null,
   "id": "eccc4687",
   "metadata": {},
   "outputs": [
    {
     "data": {
      "text/plain": [
       "Index(['smiles'], dtype='object')"
      ]
     },
     "execution_count": 22,
     "metadata": {},
     "output_type": "execute_result"
    }
   ],
   "source": []
  },
  {
   "cell_type": "code",
   "execution_count": 25,
   "id": "d30c29cf",
   "metadata": {},
   "outputs": [],
   "source": [
    "import pandas as pd\n",
    "from rdkit import Chem\n",
    "from rdkit.Chem import AllChem\n",
    "import os\n",
    "\n",
    "#first remove old isntances of the sdf file\n",
    "if os.path.exists(\"all_conformers.sdf\"):\n",
    "    os.remove(\"all_conformers.sdf\")\n",
    "\n",
    "df = pd.read_csv(\"../Data/docs/7.compounds_for_validaton.csv\")\n",
    "writer = Chem.SDWriter(\"all_conformers.sdf\")\n",
    "\n",
    "for idx, row in df.iterrows():\n",
    "    mol = Chem.MolFromSmiles(row['smiles'])\n",
    "    mol = Chem.AddHs(mol)\n",
    "    mol.SetProp(\"_Name\", str(row['name']))\n",
    "    ids = AllChem.EmbedMultipleConfs(mol, numConfs=50, randomSeed=42)\n",
    "    AllChem.UFFOptimizeMoleculeConfs(mol)\n",
    "    \n",
    "    for conf_id in ids:\n",
    "        writer.write(mol, confId=conf_id)\n",
    "\n",
    "writer.close()"
   ]
  },
  {
   "cell_type": "code",
   "execution_count": null,
   "id": "0d689319",
   "metadata": {},
   "outputs": [],
   "source": [
    "import pandas as pd\n",
    "from rdkit import Chem\n",
    "from dimorphite_dl import run_with_mol\n",
    "\n",
    "df = pd.read_csv(\"../Data/docs/6.compounds for vina smiles.csv\")\n",
    "writer = Chem.SDWriter(\"all_protomers.sdf\")\n",
    "\n",
    "for idx, row in df.iterrows():\n",
    "    mol = Chem.MolFromSmiles(row['SMILES'])\n",
    "    protomers = run_with_mol(mol, pH=7.4, min_ph=6.0, max_ph=8.0)\n",
    "\n",
    "    for protomer in protomers:\n",
    "        protomer = Chem.AddHs(protomer)\n",
    "        Chem.EmbedMolecule(protomer)\n",
    "        writer.write(protomer)\n",
    "\n",
    "writer.close()"
   ]
  }
 ],
 "metadata": {
  "kernelspec": {
   "display_name": "spock",
   "language": "python",
   "name": "python3"
  },
  "language_info": {
   "codemirror_mode": {
    "name": "ipython",
    "version": 3
   },
   "file_extension": ".py",
   "mimetype": "text/x-python",
   "name": "python",
   "nbconvert_exporter": "python",
   "pygments_lexer": "ipython3",
   "version": "3.12.2"
  }
 },
 "nbformat": 4,
 "nbformat_minor": 5
}
