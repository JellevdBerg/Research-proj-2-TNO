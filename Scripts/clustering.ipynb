{
 "cells": [
  {
   "cell_type": "code",
   "execution_count": 5,
   "id": "39fc34aa",
   "metadata": {},
   "outputs": [],
   "source": [
    "from rdkit import Chem\n",
    "from rdkit.Chem import AllChem\n",
    "\n",
    "# Load molecule from SDF\n",
    "mol = Chem.SDMolSupplier(\"../Data/SDF poses/CUIHSIWYWATEQL-UHFFFAOYSA-N_-9.462.sdf\")[0]\n",
    "mol = Chem.AddHs(mol)\n",
    "\n",
    "# Generate conformers\n",
    "AllChem.EmbedMultipleConfs(mol, numConfs=200, randomSeed=42)\n",
    "AllChem.UFFOptimizeMoleculeConfs(mol)\n",
    "\n",
    "# Write to output SDF\n",
    "writer = Chem.SDWriter(\"conformers.sdf\")\n",
    "for conf_id in range(mol.GetNumConformers()):\n",
    "    writer.write(mol, confId=conf_id)\n",
    "writer.close()\n"
   ]
  },
  {
   "cell_type": "code",
   "execution_count": null,
   "id": "c6f17315",
   "metadata": {},
   "outputs": [],
   "source": [
    "# Load molecule from SDF\n",
    "mol = Chem.SDMolSupplier(\"conformers.sdf\")[0]\n",
    "mol = Chem.AddHs(mol)\n",
    "# Generate conformers\n",
    "AllChem.EmbedMultipleConfs(mol, numConfs=200, randomSeed=42)\n",
    "AllChem.UFFOptimizeMoleculeConfs(mol)\n",
    "# Write to output SDF\n",
    "writer = Chem.SDWriter(\"conformers2.sdf\")\n",
    "for conf_id in range(mol.GetNumConformers()):\n",
    "    writer.write(mol, confId=conf_id)\n",
    "writer.close()\n"
   ]
  }
 ],
 "metadata": {
  "kernelspec": {
   "display_name": "spock",
   "language": "python",
   "name": "python3"
  },
  "language_info": {
   "codemirror_mode": {
    "name": "ipython",
    "version": 3
   },
   "file_extension": ".py",
   "mimetype": "text/x-python",
   "name": "python",
   "nbconvert_exporter": "python",
   "pygments_lexer": "ipython3",
   "version": "3.12.2"
  }
 },
 "nbformat": 4,
 "nbformat_minor": 5
}
