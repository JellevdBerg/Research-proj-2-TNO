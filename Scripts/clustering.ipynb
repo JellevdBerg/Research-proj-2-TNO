{
 "cells": [
  {
   "cell_type": "code",
   "execution_count": 8,
   "id": "d30c29cf",
   "metadata": {},
   "outputs": [],
   "source": [
    "import pandas as pd\n",
    "from rdkit import Chem\n",
    "from rdkit.Chem import AllChem\n",
    "import os\n",
    "\n",
    "#first remove old isntances of the sdf file\n",
    "if os.path.exists(\"all_conformers.sdf\"):\n",
    "    os.remove(\"all_conformers.sdf\")\n",
    "\n",
    "df = pd.read_csv(\"../Data/docs/6.compounds for vina smiles.csv\")\n",
    "writer = Chem.SDWriter(\"all_conformers.sdf\")\n",
    "\n",
    "for idx, row in df.iterrows():\n",
    "    mol = Chem.MolFromSmiles(row['SMILES'])\n",
    "    mol = Chem.AddHs(mol)\n",
    "    ids = AllChem.EmbedMultipleConfs(mol, numConfs=200, randomSeed=42)\n",
    "    AllChem.UFFOptimizeMoleculeConfs(mol)\n",
    "    \n",
    "    for conf_id in ids:\n",
    "        writer.write(mol, confId=conf_id)\n",
    "\n",
    "writer.close()"
   ]
  }
 ],
 "metadata": {
  "kernelspec": {
   "display_name": "spock",
   "language": "python",
   "name": "python3"
  },
  "language_info": {
   "codemirror_mode": {
    "name": "ipython",
    "version": 3
   },
   "file_extension": ".py",
   "mimetype": "text/x-python",
   "name": "python",
   "nbconvert_exporter": "python",
   "pygments_lexer": "ipython3",
   "version": "3.12.2"
  }
 },
 "nbformat": 4,
 "nbformat_minor": 5
}
